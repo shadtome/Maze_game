{
 "cells": [
  {
   "cell_type": "markdown",
   "metadata": {},
   "source": [
    "## Training area for agents in Hunger Maze"
   ]
  },
  {
   "cell_type": "code",
   "execution_count": 1,
   "metadata": {},
   "outputs": [
    {
     "name": "stdout",
     "output_type": "stream",
     "text": [
      "/home/cody/Documents/DataSciBC/Generative_AI/maze_game/TrainingGround\n"
     ]
    }
   ],
   "source": [
    "# Imports\n",
    "import sys\n",
    "import os\n",
    "sys.path.append(os.path.abspath(os.path.join(os.getcwd(), '..')))\n",
    "import matplotlib.pyplot as plt\n",
    "import maze_generator.maze_dataset as md\n",
    "from Maze_env.reward_functions.maze_runner import MazeRunnerRewardsFun\n",
    "import numpy as np\n",
    "from DQN.training.basic import BaseTraining\n",
    "from DQN.agents.hungermaze import HungerGamesAgent\n",
    "from DQN.agents.basic import BaseAgent\n",
    "from Maze_env.game_info import basic_info\n",
    "from Maze_env.reward_functions.hunger_games import HungerGamesRewardsFun\n",
    "from Maze_env.wrappers.reward_wrappers.hunger_games_rewards import HungerGamesRewards\n",
    "\n",
    "from Maze_env.game_info.hunger_games_info import HungerGames\n",
    "from Maze_env.game_info.team_hunger_games_info import TeamHungerGames\n",
    "\n",
    "import DQN.models.base as base\n",
    "import os\n",
    "print(os.getcwd())"
   ]
  },
  {
   "cell_type": "markdown",
   "metadata": {},
   "source": [
    "### Define the Mazes"
   ]
  },
  {
   "cell_type": "code",
   "execution_count": 2,
   "metadata": {},
   "outputs": [],
   "source": [
    "dataset = md.Maze_dataset(1,(3,3),maze_type = 'percolation')"
   ]
  },
  {
   "cell_type": "code",
   "execution_count": 3,
   "metadata": {},
   "outputs": [
    {
     "data": {
      "image/png": "[encoded data removed]",
      "text/plain": [
       "<Figure size 640x480 with 1 Axes>"
      ]
     },
     "metadata": {},
     "output_type": "display_data"
    }
   ],
   "source": [
    "# example of the maze\n",
    "dataset.show_maze(0)"
   ]
  },
  {
   "cell_type": "code",
   "execution_count": 4,
   "metadata": {},
   "outputs": [],
   "source": [
    "# parameters for the agents\n",
    "n_agents = 1\n",
    "vision = 3"
   ]
  },
  {
   "cell_type": "code",
   "execution_count": 5,
   "metadata": {},
   "outputs": [
    {
     "name": "stdout",
     "output_type": "stream",
     "text": [
      "Reward Distribution for object agents\n",
      "----------------Rewards Distribution --------------\n",
      "HIT_OTHER: -500.0\n",
      "TOO_CLOSE: -0.01\n",
      "TOO_CLOSE_CONSTANT: -0.01\n",
      "SEE_GOAL: 0.0\n",
      "DONT_SEE_GOAL: -0.0\n",
      "NEW_PLACE: 50.0\n",
      "OLD_PLACE: -0.75\n",
      "GET_CLOSER: 50.0\n",
      "GET_CLOSER_CONSTANT: 50.0\n",
      "GET_FARTHER: -30.0\n",
      "GET_FARTHER_CONSTANT: -30.0\n",
      "DIST: 0.0\n",
      "GOAL: 100.0\n",
      "FAIL: -1.0\n",
      "-----------------------------------------------------\n",
      "----------------------------------\n",
      "Basic epsilon decay scheduler:\n",
      "Start epsilon: 1\n",
      "End epsilon: 0.05\n",
      "Decay total: 300000\n",
      "Decay rate: 0.0009935761740440755\n",
      "\n",
      "------------------------------\n",
      "Group 0: Learning rate = 0.0005\n",
      "--------------------------------------\n",
      "Basis learning rate scheduler:\n",
      "Step size: 5000\n",
      "Gamma: 0.98\n"
     ]
    },
    {
     "name": "stderr",
     "output_type": "stream",
     "text": [
      "/home/cody/miniconda3/envs/GameRFL/lib/python3.12/site-packages/gymnasium/utils/passive_env_checker.py:245: UserWarning: \u001b[33mWARN: The reward returned by `step()` must be a float, int, np.integer or np.floating, actual type: <class 'dict'>\u001b[0m\n",
      "  logger.warn(\n"
     ]
    },
    {
     "ename": "KeyboardInterrupt",
     "evalue": "",
     "output_type": "error",
     "traceback": [
      "\u001b[0;31m---------------------------------------------------------------------------\u001b[0m",
      "\u001b[0;31mKeyboardInterrupt\u001b[0m                         Traceback (most recent call last)",
      "Cell \u001b[0;32mIn[5], line 59\u001b[0m\n\u001b[1;32m     32\u001b[0m \u001b[38;5;66;03m# --- trainer of the agent --- #\u001b[39;00m\n\u001b[1;32m     33\u001b[0m train \u001b[38;5;241m=\u001b[39m BaseTraining(name \u001b[38;5;241m=\u001b[39m \u001b[38;5;124m'\u001b[39m\u001b[38;5;124mFFAHG_training\u001b[39m\u001b[38;5;124m'\u001b[39m,\n\u001b[1;32m     34\u001b[0m                               maze_dataset \u001b[38;5;241m=\u001b[39m dataset,\n\u001b[1;32m     35\u001b[0m                               maze_agent \u001b[38;5;241m=\u001b[39m maze_agent,\n\u001b[0;32m   (...)\u001b[0m\n\u001b[1;32m     57\u001b[0m                               frame_mult\u001b[38;5;241m=\u001b[39m\u001b[38;5;241m1.5\u001b[39m,\n\u001b[1;32m     58\u001b[0m                               )\n\u001b[0;32m---> 59\u001b[0m \u001b[43mtrain\u001b[49m\u001b[38;5;241;43m.\u001b[39;49m\u001b[43mtrain\u001b[49m\u001b[43m(\u001b[49m\u001b[43mtest_agent\u001b[49m\u001b[38;5;241;43m=\u001b[39;49m\u001b[38;5;28;43;01mFalse\u001b[39;49;00m\u001b[43m,\u001b[49m\u001b[43mpeak\u001b[49m\u001b[38;5;241;43m=\u001b[39;49m\u001b[38;5;28;43;01mFalse\u001b[39;49;00m\u001b[43m)\u001b[49m\n",
      "File \u001b[0;32m~/Documents/DataSciBC/Generative_AI/maze_game/DQN/training/basic.py:551\u001b[0m, in \u001b[0;36mBaseTraining.train\u001b[0;34m(self, test_agent, peak)\u001b[0m\n\u001b[1;32m    547\u001b[0m \u001b[38;5;28;01mif\u001b[39;00m \u001b[38;5;28mself\u001b[39m\u001b[38;5;241m.\u001b[39mtraining_on[obj_type]:\n\u001b[1;32m    548\u001b[0m     \u001b[38;5;28;01mfor\u001b[39;00m a \u001b[38;5;129;01min\u001b[39;00m \u001b[38;5;28mrange\u001b[39m(\u001b[38;5;28mself\u001b[39m\u001b[38;5;241m.\u001b[39mn_objects[obj_type]):\n\u001b[1;32m    549\u001b[0m \n\u001b[1;32m    550\u001b[0m         \u001b[38;5;66;03m# --- add experience to replay buffer --- #\u001b[39;00m\n\u001b[0;32m--> 551\u001b[0m         \u001b[38;5;28;43mself\u001b[39;49m\u001b[38;5;241;43m.\u001b[39;49m\u001b[43mappend_to_RB\u001b[49m\u001b[43m(\u001b[49m\u001b[43mstate\u001b[49m\u001b[43m[\u001b[49m\u001b[43mobj_type\u001b[49m\u001b[43m]\u001b[49m\u001b[43m[\u001b[49m\u001b[38;5;124;43mf\u001b[39;49m\u001b[38;5;124;43m'\u001b[39;49m\u001b[38;5;124;43mlocal_\u001b[39;49m\u001b[38;5;132;43;01m{\u001b[39;49;00m\u001b[43ma\u001b[49m\u001b[38;5;132;43;01m}\u001b[39;49;00m\u001b[38;5;124;43m'\u001b[39;49m\u001b[43m]\u001b[49m\u001b[43m,\u001b[49m\u001b[43mstate\u001b[49m\u001b[43m[\u001b[49m\u001b[43mobj_type\u001b[49m\u001b[43m]\u001b[49m\u001b[43m[\u001b[49m\u001b[38;5;124;43mf\u001b[39;49m\u001b[38;5;124;43m'\u001b[39;49m\u001b[38;5;124;43mglobal_\u001b[39;49m\u001b[38;5;132;43;01m{\u001b[39;49;00m\u001b[43ma\u001b[49m\u001b[38;5;132;43;01m}\u001b[39;49;00m\u001b[38;5;124;43m'\u001b[39;49m\u001b[43m]\u001b[49m\u001b[43m,\u001b[49m\u001b[43mactions\u001b[49m\u001b[43m[\u001b[49m\u001b[43mobj_type\u001b[49m\u001b[43m]\u001b[49m\u001b[43m[\u001b[49m\u001b[43ma\u001b[49m\u001b[43m]\u001b[49m\u001b[43m,\u001b[49m\n\u001b[1;32m    552\u001b[0m \u001b[43m                                \u001b[49m\u001b[43mnext_state\u001b[49m\u001b[43m[\u001b[49m\u001b[43mobj_type\u001b[49m\u001b[43m]\u001b[49m\u001b[43m[\u001b[49m\u001b[38;5;124;43mf\u001b[39;49m\u001b[38;5;124;43m'\u001b[39;49m\u001b[38;5;124;43mlocal_\u001b[39;49m\u001b[38;5;132;43;01m{\u001b[39;49;00m\u001b[43ma\u001b[49m\u001b[38;5;132;43;01m}\u001b[39;49;00m\u001b[38;5;124;43m'\u001b[39;49m\u001b[43m]\u001b[49m\u001b[43m,\u001b[49m\u001b[43mnext_state\u001b[49m\u001b[43m[\u001b[49m\u001b[43mobj_type\u001b[49m\u001b[43m]\u001b[49m\u001b[43m[\u001b[49m\u001b[38;5;124;43mf\u001b[39;49m\u001b[38;5;124;43m'\u001b[39;49m\u001b[38;5;124;43mglobal_\u001b[39;49m\u001b[38;5;132;43;01m{\u001b[39;49;00m\u001b[43ma\u001b[49m\u001b[38;5;132;43;01m}\u001b[39;49;00m\u001b[38;5;124;43m'\u001b[39;49m\u001b[43m]\u001b[49m\u001b[43m,\u001b[49m\n\u001b[1;32m    553\u001b[0m \u001b[43m                                \u001b[49m\u001b[43mreward\u001b[49m\u001b[43m[\u001b[49m\u001b[43mobj_type\u001b[49m\u001b[43m]\u001b[49m\u001b[43m[\u001b[49m\u001b[43ma\u001b[49m\u001b[43m]\u001b[49m\u001b[43m,\u001b[49m\u001b[43mterminated\u001b[49m\u001b[43m,\u001b[49m\u001b[43mnext_info\u001b[49m\u001b[43m[\u001b[49m\u001b[43mobj_type\u001b[49m\u001b[43m \u001b[49m\u001b[38;5;241;43m+\u001b[39;49m\u001b[43m \u001b[49m\u001b[38;5;124;43mf\u001b[39;49m\u001b[38;5;124;43m'\u001b[39;49m\u001b[38;5;124;43m_\u001b[39;49m\u001b[38;5;132;43;01m{\u001b[39;49;00m\u001b[43ma\u001b[49m\u001b[38;5;132;43;01m}\u001b[39;49;00m\u001b[38;5;124;43m'\u001b[39;49m\u001b[43m]\u001b[49m\u001b[43m,\u001b[49m\u001b[43ma\u001b[49m\u001b[43m,\u001b[49m\u001b[43mobj_type\u001b[49m\u001b[43m)\u001b[49m\n\u001b[1;32m    555\u001b[0m         \u001b[38;5;66;03m# --- accumulate rewards --- #\u001b[39;00m\n\u001b[1;32m    556\u001b[0m         cum_reward[obj_type][a] \u001b[38;5;241m+\u001b[39m\u001b[38;5;241m=\u001b[39m reward[obj_type][a]\n",
      "File \u001b[0;32m~/Documents/DataSciBC/Generative_AI/maze_game/DQN/training/basic.py:376\u001b[0m, in \u001b[0;36mBaseTraining.append_to_RB\u001b[0;34m(self, local_s, global_s, action, n_local_s, n_global_s, reward, terminated, info, agent_id, obj_type)\u001b[0m\n\u001b[1;32m    373\u001b[0m \u001b[38;5;28;01mdef\u001b[39;00m \u001b[38;5;21mappend_to_RB\u001b[39m(\u001b[38;5;28mself\u001b[39m,local_s,global_s,action,n_local_s,n_global_s,reward,terminated,info,agent_id,obj_type):\n\u001b[1;32m    374\u001b[0m \u001b[38;5;250m    \u001b[39m\u001b[38;5;124;03m\"\"\"Append the experience to the replay buffer depending on the type of buffer\"\"\"\u001b[39;00m\n\u001b[0;32m--> 376\u001b[0m     td_e \u001b[38;5;241m=\u001b[39m \u001b[38;5;28;43mself\u001b[39;49m\u001b[38;5;241;43m.\u001b[39;49m\u001b[43mtd_error\u001b[49m\u001b[43m(\u001b[49m\u001b[43mlocal_s\u001b[49m\u001b[43m,\u001b[49m\u001b[43mglobal_s\u001b[49m\u001b[43m,\u001b[49m\u001b[43maction\u001b[49m\u001b[43m,\u001b[49m\u001b[43mn_local_s\u001b[49m\u001b[43m,\u001b[49m\u001b[43mn_global_s\u001b[49m\u001b[43m,\u001b[49m\u001b[43mreward\u001b[49m\u001b[43m,\u001b[49m\u001b[43mterminated\u001b[49m\u001b[43m,\u001b[49m\u001b[43minfo\u001b[49m\u001b[43m,\u001b[49m\u001b[43mobj_type\u001b[49m\u001b[43m)\u001b[49m\n\u001b[1;32m    377\u001b[0m     \u001b[38;5;28mself\u001b[39m\u001b[38;5;241m.\u001b[39mtd_errors[obj_type][agent_id]\u001b[38;5;241m.\u001b[39mappend(td_e)\n\u001b[1;32m    379\u001b[0m     \u001b[38;5;28;01mif\u001b[39;00m \u001b[38;5;28mself\u001b[39m\u001b[38;5;241m.\u001b[39mper:\n",
      "File \u001b[0;32m~/Documents/DataSciBC/Generative_AI/maze_game/DQN/training/basic.py:353\u001b[0m, in \u001b[0;36mBaseTraining.td_error\u001b[0;34m(self, local_s, global_s, action, n_local_s, n_global_s, reward, terminated, info, obj_type)\u001b[0m\n\u001b[1;32m    350\u001b[0m local_s,global_s,action,n_local_s,n_global_s,reward,terminated,info \u001b[38;5;241m=\u001b[39m \u001b[38;5;28mself\u001b[39m\u001b[38;5;241m.\u001b[39mtransform(local_s,global_s,action,n_local_s,n_global_s,reward,terminated,info,single\u001b[38;5;241m=\u001b[39m\u001b[38;5;28;01mTrue\u001b[39;00m,obj_type\u001b[38;5;241m=\u001b[39mobj_type)\n\u001b[1;32m    352\u001b[0m \u001b[38;5;66;03m# --- get Q(s,a) for each action --- #\u001b[39;00m\n\u001b[0;32m--> 353\u001b[0m q_values \u001b[38;5;241m=\u001b[39m \u001b[38;5;28;43mself\u001b[39;49m\u001b[38;5;241;43m.\u001b[39;49m\u001b[43mapplyPolicyQ_fun\u001b[49m\u001b[43m(\u001b[49m\u001b[43mlocal_s\u001b[49m\u001b[43m,\u001b[49m\u001b[43mglobal_s\u001b[49m\u001b[43m,\u001b[49m\u001b[43minfo\u001b[49m\u001b[43m,\u001b[49m\u001b[43mobj_type\u001b[49m\u001b[43m)\u001b[49m\n\u001b[1;32m    356\u001b[0m \u001b[38;5;66;03m# --- pick the Q values corresponding to the picked actions --- #\u001b[39;00m\n\u001b[1;32m    357\u001b[0m selected_q_values \u001b[38;5;241m=\u001b[39m q_values\u001b[38;5;241m.\u001b[39mgather(\u001b[38;5;241m1\u001b[39m,action\u001b[38;5;241m.\u001b[39munsqueeze(\u001b[38;5;241m1\u001b[39m))\u001b[38;5;241m.\u001b[39msqueeze(\u001b[38;5;241m1\u001b[39m)\n",
      "File \u001b[0;32m~/Documents/DataSciBC/Generative_AI/maze_game/DQN/training/basic.py:342\u001b[0m, in \u001b[0;36mBaseTraining.applyPolicyQ_fun\u001b[0;34m(self, local_s, global_s, info, obj_type)\u001b[0m\n\u001b[1;32m    341\u001b[0m \u001b[38;5;28;01mdef\u001b[39;00m \u001b[38;5;21mapplyPolicyQ_fun\u001b[39m(\u001b[38;5;28mself\u001b[39m,local_s,global_s,info,obj_type):\n\u001b[0;32m--> 342\u001b[0m     \u001b[38;5;28;01mreturn\u001b[39;00m \u001b[38;5;28;43mself\u001b[39;49m\u001b[38;5;241;43m.\u001b[39;49m\u001b[43magents\u001b[49m\u001b[38;5;241;43m.\u001b[39;49m\u001b[43mQ_fun\u001b[49m\u001b[43m[\u001b[49m\u001b[43mobj_type\u001b[49m\u001b[43m]\u001b[49m\u001b[43m(\u001b[49m\u001b[43mlocal_s\u001b[49m\u001b[43m,\u001b[49m\u001b[43mglobal_s\u001b[49m\u001b[43m)\u001b[49m\n",
      "File \u001b[0;32m~/miniconda3/envs/GameRFL/lib/python3.12/site-packages/torch/nn/modules/module.py:1736\u001b[0m, in \u001b[0;36mModule._wrapped_call_impl\u001b[0;34m(self, *args, **kwargs)\u001b[0m\n\u001b[1;32m   1734\u001b[0m     \u001b[38;5;28;01mreturn\u001b[39;00m \u001b[38;5;28mself\u001b[39m\u001b[38;5;241m.\u001b[39m_compiled_call_impl(\u001b[38;5;241m*\u001b[39margs, \u001b[38;5;241m*\u001b[39m\u001b[38;5;241m*\u001b[39mkwargs)  \u001b[38;5;66;03m# type: ignore[misc]\u001b[39;00m\n\u001b[1;32m   1735\u001b[0m \u001b[38;5;28;01melse\u001b[39;00m:\n\u001b[0;32m-> 1736\u001b[0m     \u001b[38;5;28;01mreturn\u001b[39;00m \u001b[38;5;28;43mself\u001b[39;49m\u001b[38;5;241;43m.\u001b[39;49m\u001b[43m_call_impl\u001b[49m\u001b[43m(\u001b[49m\u001b[38;5;241;43m*\u001b[39;49m\u001b[43margs\u001b[49m\u001b[43m,\u001b[49m\u001b[43m \u001b[49m\u001b[38;5;241;43m*\u001b[39;49m\u001b[38;5;241;43m*\u001b[39;49m\u001b[43mkwargs\u001b[49m\u001b[43m)\u001b[49m\n",
      "File \u001b[0;32m~/miniconda3/envs/GameRFL/lib/python3.12/site-packages/torch/nn/modules/module.py:1741\u001b[0m, in \u001b[0;36mModule._call_impl\u001b[0;34m(self, *args, **kwargs)\u001b[0m\n\u001b[1;32m   1740\u001b[0m \u001b[38;5;28;01mdef\u001b[39;00m \u001b[38;5;21m_call_impl\u001b[39m(\u001b[38;5;28mself\u001b[39m, \u001b[38;5;241m*\u001b[39margs, \u001b[38;5;241m*\u001b[39m\u001b[38;5;241m*\u001b[39mkwargs):\n\u001b[0;32m-> 1741\u001b[0m     forward_call \u001b[38;5;241m=\u001b[39m (\u001b[38;5;28mself\u001b[39m\u001b[38;5;241m.\u001b[39m_slow_forward \u001b[38;5;28;01mif\u001b[39;00m \u001b[43mtorch\u001b[49m\u001b[38;5;241;43m.\u001b[39;49m\u001b[43m_C\u001b[49m\u001b[38;5;241;43m.\u001b[39;49m\u001b[43m_get_tracing_state\u001b[49m\u001b[43m(\u001b[49m\u001b[43m)\u001b[49m \u001b[38;5;28;01melse\u001b[39;00m \u001b[38;5;28mself\u001b[39m\u001b[38;5;241m.\u001b[39mforward)\n\u001b[1;32m   1742\u001b[0m     \u001b[38;5;66;03m# If we don't have any hooks, we want to skip the rest of the logic in\u001b[39;00m\n\u001b[1;32m   1743\u001b[0m     \u001b[38;5;66;03m# this function, and just call forward.\u001b[39;00m\n\u001b[1;32m   1744\u001b[0m     \u001b[38;5;28;01mif\u001b[39;00m \u001b[38;5;129;01mnot\u001b[39;00m (\u001b[38;5;28mself\u001b[39m\u001b[38;5;241m.\u001b[39m_backward_hooks \u001b[38;5;129;01mor\u001b[39;00m \u001b[38;5;28mself\u001b[39m\u001b[38;5;241m.\u001b[39m_backward_pre_hooks \u001b[38;5;129;01mor\u001b[39;00m \u001b[38;5;28mself\u001b[39m\u001b[38;5;241m.\u001b[39m_forward_hooks \u001b[38;5;129;01mor\u001b[39;00m \u001b[38;5;28mself\u001b[39m\u001b[38;5;241m.\u001b[39m_forward_pre_hooks\n\u001b[1;32m   1745\u001b[0m             \u001b[38;5;129;01mor\u001b[39;00m _global_backward_pre_hooks \u001b[38;5;129;01mor\u001b[39;00m _global_backward_hooks\n\u001b[1;32m   1746\u001b[0m             \u001b[38;5;129;01mor\u001b[39;00m _global_forward_hooks \u001b[38;5;129;01mor\u001b[39;00m _global_forward_pre_hooks):\n",
      "\u001b[0;31mKeyboardInterrupt\u001b[0m: "
     ]
    }
   ],
   "source": [
    "%matplotlib notebook\n",
    "\n",
    "\n",
    "# --- Agents for the Hunger Games --- #\n",
    "rewards = rewards = HungerGamesRewardsFun(\n",
    "                        GOAL = 100.0,\n",
    "                         SEE_GOAL = 0.00,\n",
    "                         DONT_SEE_GOAL = -0.00,\n",
    "                         NEW_PLACE = 50.0,\n",
    "                         OLD_PLACE = -0.75,\n",
    "                         GET_CLOSER = 50.0, \n",
    "                         GET_CLOSER_CONSTANT = 50.0,\n",
    "                         GET_FARTHER = -30.0,\n",
    "                         GET_FARTHER_CONSTANT = -30.0,\n",
    "                         DIST = 0.0,\n",
    "                         HIT_OTHER = -500.0,\n",
    "                         TOO_CLOSE = -0.01,\n",
    "                         TOO_CLOSE_CONSTANT = -0.01,\n",
    "                )\n",
    "game_info = HungerGames()\n",
    "game_info.update_game_info(\n",
    "                           rewards_dist = {'agents': rewards}\n",
    "\n",
    ")\n",
    "maze_agent =BaseAgent({'agents':base.CNN_version1},\n",
    "                               vision={'agents':vision},\n",
    "                               action_type='cardinal',\n",
    "                               dist_paradigm='path',\n",
    "                               game_info=game_info\n",
    ")\n",
    "\n",
    "# --- trainer of the agent --- #\n",
    "train = BaseTraining(name = 'FFAHG_training',\n",
    "                              maze_dataset = dataset,\n",
    "                              maze_agent = maze_agent,\n",
    "                              len_game=50,\n",
    "                              n_objects={'agents':n_agents},\n",
    "                              final_epsilon = 0.05,\n",
    "                              gamma = 0.99,\n",
    "                              tau = 0.0001,\n",
    "                               batch_size = 64,\n",
    "                              n_frames = 500000,\n",
    "                              lr = 0.0005,\n",
    "                              lr_step_size=5000,\n",
    "                              lr_gamma = 0.98,\n",
    "                              lr_head_gamma = 0.98,\n",
    "                              l2_regular=0.01,\n",
    "                              replay_buffer_size=300000,\n",
    "                              replay_buffer_min_perc=0.1,\n",
    "                              target_update=5000,\n",
    "                              policy_update=1,\n",
    "                              lambda_entropy=0.1,\n",
    "                              beta = 0.4,\n",
    "                              alpha = 0.6,\n",
    "                              decay_total = 300000,\n",
    "                              per = True,\n",
    "                              frame_mult=1.5,\n",
    "                              )\n",
    "train.train(test_agent=False,peak=False)"
   ]
  },
  {
   "cell_type": "code",
   "execution_count": null,
   "metadata": {},
   "outputs": [
    {
     "ename": "KeyError",
     "evalue": "'bogus'",
     "output_type": "error",
     "traceback": [
      "\u001b[0;31m---------------------------------------------------------------------------\u001b[0m",
      "\u001b[0;31mKeyError\u001b[0m                                  Traceback (most recent call last)",
      "Cell \u001b[0;32mIn[6], line 1\u001b[0m\n\u001b[0;32m----> 1\u001b[0m \u001b[43mtrain\u001b[49m\u001b[38;5;241;43m.\u001b[39;49m\u001b[43msave\u001b[49m\u001b[43m(\u001b[49m\u001b[43m)\u001b[49m\n\u001b[1;32m      2\u001b[0m train\u001b[38;5;241m.\u001b[39mresults()\n",
      "File \u001b[0;32m~/Documents/DataSciBC/Generative_AI/maze_game/DQN/training/basic.py:786\u001b[0m, in \u001b[0;36mBaseTraining.save\u001b[0;34m(self)\u001b[0m\n\u001b[1;32m    784\u001b[0m     \u001b[38;5;28;01mif\u001b[39;00m os\u001b[38;5;241m.\u001b[39mpath\u001b[38;5;241m.\u001b[39mexists(object_fd_best)\u001b[38;5;241m==\u001b[39m\u001b[38;5;28;01mFalse\u001b[39;00m:\n\u001b[1;32m    785\u001b[0m         os\u001b[38;5;241m.\u001b[39mmkdir(object_fd_best)\n\u001b[0;32m--> 786\u001b[0m     \u001b[38;5;28;43mself\u001b[39;49m\u001b[38;5;241;43m.\u001b[39;49m\u001b[43mscheduler\u001b[49m\u001b[43m[\u001b[49m\u001b[43mobj_type\u001b[49m\u001b[43m]\u001b[49m\u001b[38;5;241m.\u001b[39msave(object_fd_original)\n\u001b[1;32m    787\u001b[0m     \u001b[38;5;28mself\u001b[39m\u001b[38;5;241m.\u001b[39mscheduler[obj_type]\u001b[38;5;241m.\u001b[39msave(object_fd_best)\n\u001b[1;32m    789\u001b[0m \u001b[38;5;66;03m# now to save the hyperparameters for this mod\u001b[39;00m\n",
      "\u001b[0;31mKeyError\u001b[0m: 'bogus'"
     ]
    }
   ],
   "source": [
    "train.save()\n",
    "train.results()"
   ]
  },
  {
   "cell_type": "code",
   "execution_count": null,
   "metadata": {},
   "outputs": [
    {
     "name": "stderr",
     "output_type": "stream",
     "text": [
      "/home/cody/miniconda3/envs/GameRFL/lib/python3.12/site-packages/gymnasium/utils/passive_env_checker.py:245: UserWarning: \u001b[33mWARN: The reward returned by `step()` must be a float, int, np.integer or np.floating, actual type: <class 'dict'>\u001b[0m\n",
      "  logger.warn(\n"
     ]
    },
    {
     "data": {
      "text/plain": [
       "{'agents': 0.12500000000000008}"
      ]
     },
     "execution_count": 7,
     "metadata": {},
     "output_type": "execute_result"
    }
   ],
   "source": [
    "train.agents.test_agent(dataset,n_episodes=1000,len_game=15,num_objects={'agents':n_agents})"
   ]
  },
  {
   "cell_type": "code",
   "execution_count": null,
   "metadata": {},
   "outputs": [
    {
     "name": "stdout",
     "output_type": "stream",
     "text": [
      "cumulative reward: {'agents': [-106.94444444444444, -101.38888888888889]}\n",
      "cumulative reward: {'agents': [-25.25, -26.572222222222223]}\n",
      "cumulative reward: {'agents': [-110.07757201646089, -106.58251028806585]}\n",
      "cumulative reward: {'agents': [-117.77592592592593, -98.88703703703702]}\n",
      "cumulative reward: {'agents': [-106.94444444444444, -98.88703703703702]}\n",
      "cumulative reward: {'agents': [-106.94444444444444, -106.58251028806585]}\n",
      "cumulative reward: {'agents': [-112.18950617283949, -101.38888888888889]}\n",
      "cumulative reward: {'agents': [-110.07757201646089, -109.16193415637858]}\n",
      "cumulative reward: {'agents': [-33.44444444444444, -27.9417695473251]}\n",
      "cumulative reward: {'agents': [-106.58251028806585, -117.10432098765432]}\n",
      "cumulative reward: {'agents': [-74.91296296296298, -98.88703703703702]}\n",
      "cumulative reward: {'agents': [-112.49999999999999, -112.49999999999999]}\n",
      "cumulative reward: {'agents': [-103.71954732510288, -101.38888888888889]}\n",
      "cumulative reward: {'agents': [-30.328600823045267, -32.33333333333333]}\n",
      "cumulative reward: {'agents': [-102.330658436214, -103.71954732510288]}\n",
      "cumulative reward: {'agents': [-106.94444444444444, -106.94444444444444]}\n",
      "cumulative reward: {'agents': [-8.78641975308642, -8.78641975308642]}\n",
      "cumulative reward: {'agents': [-98.88703703703702, -112.18950617283949]}\n",
      "cumulative reward: {'agents': [-25.00843621399177, -25.99074074074074]}\n",
      "cumulative reward: {'agents': [-102.330658436214, -74.91296296296298]}\n"
     ]
    }
   ],
   "source": [
    "\n",
    "train.agents.run_agent(dataset[0],num_objects={'agents':n_agents},n_episodes=20,len_game=15,epsilon=0,init_pos={})\n"
   ]
  }
 ],
 "metadata": {
  "kernelspec": {
   "display_name": "GameRFL",
   "language": "python",
   "name": "python3"
  },
  "language_info": {
   "codemirror_mode": {
    "name": "ipython",
    "version": 3
   },
   "file_extension": ".py",
   "mimetype": "text/x-python",
   "name": "python",
   "nbconvert_exporter": "python",
   "pygments_lexer": "ipython3",
   "version": "3.12.3"
  }
 },
 "nbformat": 4,
 "nbformat_minor": 2
}
