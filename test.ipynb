{
 "cells": [
  {
   "cell_type": "code",
   "execution_count": 1,
   "metadata": {},
   "outputs": [],
   "source": [
    "# Imports\n",
    "import matplotlib.pyplot as plt\n",
    "\n",
    "from maze_dataset.generation import LatticeMazeGenerators\n",
    "from maze_dataset.plotting import MazePlot\n",
    "\n"
   ]
  },
  {
   "cell_type": "code",
   "execution_count": 2,
   "metadata": {},
   "outputs": [
    {
     "name": "stdout",
     "output_type": "stream",
     "text": [
      "[[[ True False False  True False  True  True  True False  True  True\n",
      "    True False False  True]\n",
      "  [ True  True  True False  True False  True False False  True  True\n",
      "   False  True  True  True]\n",
      "  [ True False  True  True  True  True  True  True False False False\n",
      "   False False  True False]\n",
      "  [ True  True False  True  True False False False  True  True False\n",
      "   False False False False]\n",
      "  [ True  True  True  True  True  True False False False False False\n",
      "    True False False  True]\n",
      "  [ True  True  True False False False  True False  True  True False\n",
      "   False False False  True]\n",
      "  [False  True False  True False False False  True False False False\n",
      "   False False  True  True]\n",
      "  [ True  True  True False  True False  True False  True False  True\n",
      "   False False False  True]\n",
      "  [ True False  True False False  True  True  True  True  True  True\n",
      "   False False  True  True]\n",
      "  [ True False False  True False False  True  True  True False False\n",
      "    True  True False  True]\n",
      "  [False False False False  True False False  True  True  True  True\n",
      "    True False False False]\n",
      "  [ True False False  True  True  True  True  True False False  True\n",
      "   False False  True  True]\n",
      "  [ True False  True  True  True  True False False False  True False\n",
      "   False  True False  True]\n",
      "  [ True  True  True False False False False False False  True False\n",
      "    True False  True  True]\n",
      "  [False False False False False False False False False False False\n",
      "   False False False False]]\n",
      "\n",
      " [[ True  True  True  True  True False False  True  True  True False\n",
      "    True  True  True False]\n",
      "  [False False  True False  True False  True  True False False False\n",
      "    True False False False]\n",
      "  [ True False False False False False False  True  True False  True\n",
      "    True False  True False]\n",
      "  [False  True False False False  True False  True False  True  True\n",
      "    True  True  True False]\n",
      "  [False False  True False False  True  True  True False  True False\n",
      "    True  True  True False]\n",
      "  [False False False  True  True False  True  True False  True  True\n",
      "   False  True  True False]\n",
      "  [False False False  True  True  True False  True False  True  True\n",
      "    True  True False False]\n",
      "  [ True False  True False  True  True False  True  True  True False\n",
      "    True  True False False]\n",
      "  [False False False  True  True False False False False False  True\n",
      "    True  True False False]\n",
      "  [ True  True False  True  True False False False False  True False\n",
      "    True False False False]\n",
      "  [ True  True  True False  True False  True False False  True False\n",
      "   False  True  True False]\n",
      "  [ True  True  True False False  True False False  True False False\n",
      "    True  True False False]\n",
      "  [ True  True False False False False  True False  True False  True\n",
      "    True False  True False]\n",
      "  [False False False  True False  True  True  True  True False  True\n",
      "   False  True False False]\n",
      "  [ True False  True  True  True  True  True  True  True  True  True\n",
      "    True False  True False]]]\n",
      "(15, 15)\n"
     ]
    },
    {
     "data": {
      "image/png": "[encoded data removed]",
      "text/plain": [
       "<Figure size 640x480 with 1 Axes>"
      ]
     },
     "metadata": {},
     "output_type": "display_data"
    }
   ],
   "source": [
    "sample_lattice_maze = LatticeMazeGenerators.gen_dfs(\n",
    "    grid_shape=(15, 15),\n",
    "    lattice_dim=2,\n",
    "    accessible_cells=None,\n",
    "    max_tree_depth=None,\n",
    "    start_coord=None,\n",
    ")\n",
    "print(sample_lattice_maze.connection_list)\n",
    "print(sample_lattice_maze.grid_shape)\n",
    "MazePlot(sample_lattice_maze).plot()\n",
    "\n",
    "plt.show()"
   ]
  },
  {
   "cell_type": "code",
   "execution_count": 3,
   "metadata": {},
   "outputs": [
    {
     "name": "stdout",
     "output_type": "stream",
     "text": [
      "[array([12,  5]), array([12, 10])]\n"
     ]
    }
   ],
   "source": [
    "import Maze_env.env.mazes as m\n",
    "\n",
    "ex_env = m.maze_env(sample_lattice_maze,2)\n",
    "ex_env.reset()\n",
    "print(ex_env.agent_positions)\n"
   ]
  },
  {
   "cell_type": "code",
   "execution_count": 4,
   "metadata": {},
   "outputs": [],
   "source": [
    "ex_env.render()\n",
    "ex_env.step([2,3])\n",
    "ex_env.render()"
   ]
  },
  {
   "cell_type": "code",
   "execution_count": 5,
   "metadata": {},
   "outputs": [
    {
     "data": {
      "text/plain": [
       "{'agent_0': array([1, 6]),\n",
       " 'agent_1': array([ 9, 14]),\n",
       " 'target_0': array([ 5, 14]),\n",
       " 'target_1': array([4, 5])}"
      ]
     },
     "execution_count": 5,
     "metadata": {},
     "output_type": "execute_result"
    }
   ],
   "source": [
    "ex_env.observation_space.sample()"
   ]
  },
  {
   "cell_type": "code",
   "execution_count": null,
   "metadata": {},
   "outputs": [
    {
     "name": "stderr",
     "output_type": "stream",
     "text": [
      "/home/cody/miniconda3/envs/GameRFL/lib/python3.12/site-packages/gymnasium/utils/passive_env_checker.py:245: UserWarning: \u001b[33mWARN: The reward returned by `step()` must be a float, int, np.integer or np.floating, actual type: <class 'numpy.ndarray'>\u001b[0m\n",
      "  logger.warn(\n"
     ]
    },
    {
     "ename": "KeyboardInterrupt",
     "evalue": "",
     "output_type": "error",
     "traceback": [
      "\u001b[0;31m---------------------------------------------------------------------------\u001b[0m",
      "\u001b[0;31mKeyboardInterrupt\u001b[0m                         Traceback (most recent call last)",
      "Cell \u001b[0;32mIn[6], line 12\u001b[0m\n\u001b[1;32m     10\u001b[0m     \u001b[38;5;28;01mfor\u001b[39;00m a \u001b[38;5;129;01min\u001b[39;00m \u001b[38;5;28mrange\u001b[39m(num_agents):\n\u001b[1;32m     11\u001b[0m         action\u001b[38;5;241m.\u001b[39mappend(env\u001b[38;5;241m.\u001b[39maction_space\u001b[38;5;241m.\u001b[39msample())\n\u001b[0;32m---> 12\u001b[0m     observations, reward,terminated, truncated,info \u001b[38;5;241m=\u001b[39m \u001b[43menv\u001b[49m\u001b[38;5;241;43m.\u001b[39;49m\u001b[43mstep\u001b[49m\u001b[43m(\u001b[49m\u001b[43maction\u001b[49m\u001b[43m)\u001b[49m\n\u001b[1;32m     14\u001b[0m     episode_over \u001b[38;5;241m=\u001b[39m terminated \u001b[38;5;129;01mor\u001b[39;00m truncated\n\u001b[1;32m     16\u001b[0m env\u001b[38;5;241m.\u001b[39mclose()\n",
      "File \u001b[0;32m~/miniconda3/envs/GameRFL/lib/python3.12/site-packages/gymnasium/wrappers/common.py:393\u001b[0m, in \u001b[0;36mOrderEnforcing.step\u001b[0;34m(self, action)\u001b[0m\n\u001b[1;32m    391\u001b[0m \u001b[38;5;28;01mif\u001b[39;00m \u001b[38;5;129;01mnot\u001b[39;00m \u001b[38;5;28mself\u001b[39m\u001b[38;5;241m.\u001b[39m_has_reset:\n\u001b[1;32m    392\u001b[0m     \u001b[38;5;28;01mraise\u001b[39;00m ResetNeeded(\u001b[38;5;124m\"\u001b[39m\u001b[38;5;124mCannot call env.step() before calling env.reset()\u001b[39m\u001b[38;5;124m\"\u001b[39m)\n\u001b[0;32m--> 393\u001b[0m \u001b[38;5;28;01mreturn\u001b[39;00m \u001b[38;5;28;43msuper\u001b[39;49m\u001b[43m(\u001b[49m\u001b[43m)\u001b[49m\u001b[38;5;241;43m.\u001b[39;49m\u001b[43mstep\u001b[49m\u001b[43m(\u001b[49m\u001b[43maction\u001b[49m\u001b[43m)\u001b[49m\n",
      "File \u001b[0;32m~/miniconda3/envs/GameRFL/lib/python3.12/site-packages/gymnasium/core.py:322\u001b[0m, in \u001b[0;36mWrapper.step\u001b[0;34m(self, action)\u001b[0m\n\u001b[1;32m    318\u001b[0m \u001b[38;5;28;01mdef\u001b[39;00m \u001b[38;5;21mstep\u001b[39m(\n\u001b[1;32m    319\u001b[0m     \u001b[38;5;28mself\u001b[39m, action: WrapperActType\n\u001b[1;32m    320\u001b[0m ) \u001b[38;5;241m-\u001b[39m\u001b[38;5;241m>\u001b[39m \u001b[38;5;28mtuple\u001b[39m[WrapperObsType, SupportsFloat, \u001b[38;5;28mbool\u001b[39m, \u001b[38;5;28mbool\u001b[39m, \u001b[38;5;28mdict\u001b[39m[\u001b[38;5;28mstr\u001b[39m, Any]]:\n\u001b[1;32m    321\u001b[0m \u001b[38;5;250m    \u001b[39m\u001b[38;5;124;03m\"\"\"Uses the :meth:`step` of the :attr:`env` that can be overwritten to change the returned data.\"\"\"\u001b[39;00m\n\u001b[0;32m--> 322\u001b[0m     \u001b[38;5;28;01mreturn\u001b[39;00m \u001b[38;5;28;43mself\u001b[39;49m\u001b[38;5;241;43m.\u001b[39;49m\u001b[43menv\u001b[49m\u001b[38;5;241;43m.\u001b[39;49m\u001b[43mstep\u001b[49m\u001b[43m(\u001b[49m\u001b[43maction\u001b[49m\u001b[43m)\u001b[49m\n",
      "File \u001b[0;32m~/miniconda3/envs/GameRFL/lib/python3.12/site-packages/gymnasium/wrappers/common.py:285\u001b[0m, in \u001b[0;36mPassiveEnvChecker.step\u001b[0;34m(self, action)\u001b[0m\n\u001b[1;32m    283\u001b[0m     \u001b[38;5;28;01mreturn\u001b[39;00m env_step_passive_checker(\u001b[38;5;28mself\u001b[39m\u001b[38;5;241m.\u001b[39menv, action)\n\u001b[1;32m    284\u001b[0m \u001b[38;5;28;01melse\u001b[39;00m:\n\u001b[0;32m--> 285\u001b[0m     \u001b[38;5;28;01mreturn\u001b[39;00m \u001b[38;5;28;43mself\u001b[39;49m\u001b[38;5;241;43m.\u001b[39;49m\u001b[43menv\u001b[49m\u001b[38;5;241;43m.\u001b[39;49m\u001b[43mstep\u001b[49m\u001b[43m(\u001b[49m\u001b[43maction\u001b[49m\u001b[43m)\u001b[49m\n",
      "File \u001b[0;32m~/Documents/DataSciBC/Generative_AI/maze_game/Maze_env/env/mazes.py:250\u001b[0m, in \u001b[0;36mmaze_env.step\u001b[0;34m(self, actions)\u001b[0m\n\u001b[1;32m    247\u001b[0m done \u001b[38;5;241m=\u001b[39m \u001b[38;5;28mall\u001b[39m(done_flags)\n\u001b[1;32m    249\u001b[0m \u001b[38;5;28;01mif\u001b[39;00m \u001b[38;5;28mself\u001b[39m\u001b[38;5;241m.\u001b[39mrender_mode \u001b[38;5;241m==\u001b[39m \u001b[38;5;124m'\u001b[39m\u001b[38;5;124mhuman\u001b[39m\u001b[38;5;124m'\u001b[39m:\n\u001b[0;32m--> 250\u001b[0m     \u001b[38;5;28;43mself\u001b[39;49m\u001b[38;5;241;43m.\u001b[39;49m\u001b[43m_render_frame\u001b[49m\u001b[43m(\u001b[49m\u001b[43m)\u001b[49m\n\u001b[1;32m    252\u001b[0m \u001b[38;5;28;01mreturn\u001b[39;00m \u001b[38;5;28mself\u001b[39m\u001b[38;5;241m.\u001b[39m_get_state(),np\u001b[38;5;241m.\u001b[39marray(agent_rewards), done, \u001b[38;5;28;01mFalse\u001b[39;00m, \u001b[38;5;28mself\u001b[39m\u001b[38;5;241m.\u001b[39m_get_info()\n",
      "File \u001b[0;32m~/Documents/DataSciBC/Generative_AI/maze_game/Maze_env/env/mazes.py:330\u001b[0m, in \u001b[0;36mmaze_env._render_frame\u001b[0;34m(self)\u001b[0m\n\u001b[1;32m    327\u001b[0m     pygame\u001b[38;5;241m.\u001b[39mevent\u001b[38;5;241m.\u001b[39mpump()\n\u001b[1;32m    328\u001b[0m     pygame\u001b[38;5;241m.\u001b[39mdisplay\u001b[38;5;241m.\u001b[39mupdate()\n\u001b[0;32m--> 330\u001b[0m     \u001b[38;5;28;43mself\u001b[39;49m\u001b[38;5;241;43m.\u001b[39;49m\u001b[43mclock\u001b[49m\u001b[38;5;241;43m.\u001b[39;49m\u001b[43mtick\u001b[49m\u001b[43m(\u001b[49m\u001b[38;5;28;43mself\u001b[39;49m\u001b[38;5;241;43m.\u001b[39;49m\u001b[43mmetadata\u001b[49m\u001b[43m[\u001b[49m\u001b[38;5;124;43m'\u001b[39;49m\u001b[38;5;124;43mrender_fps\u001b[39;49m\u001b[38;5;124;43m'\u001b[39;49m\u001b[43m]\u001b[49m\u001b[43m)\u001b[49m\n\u001b[1;32m    331\u001b[0m \u001b[38;5;28;01melse\u001b[39;00m:\n\u001b[1;32m    332\u001b[0m     \u001b[38;5;28;01mreturn\u001b[39;00m np\u001b[38;5;241m.\u001b[39mtranspose(\n\u001b[1;32m    333\u001b[0m         np\u001b[38;5;241m.\u001b[39marray(pygame\u001b[38;5;241m.\u001b[39msurfarray\u001b[38;5;241m.\u001b[39mpixels2d(screen)),axes \u001b[38;5;241m=\u001b[39m (\u001b[38;5;241m1\u001b[39m,\u001b[38;5;241m0\u001b[39m,\u001b[38;5;241m2\u001b[39m)\n\u001b[1;32m    334\u001b[0m     )\n",
      "\u001b[0;31mKeyboardInterrupt\u001b[0m: "
     ]
    },
    {
     "ename": "",
     "evalue": "",
     "output_type": "error",
     "traceback": [
      "\u001b[1;31mThe Kernel crashed while executing code in the current cell or a previous cell. \n",
      "\u001b[1;31mPlease review the code in the cell(s) to identify a possible cause of the failure. \n",
      "\u001b[1;31mClick <a href='https://aka.ms/vscodeJupyterKernelCrash'>here</a> for more info. \n",
      "\u001b[1;31mView Jupyter <a href='command:jupyter.viewOutput'>log</a> for further details."
     ]
    }
   ],
   "source": [
    "import gymnasium as gym\n",
    "num_agents = 10\n",
    "env = gym.make('Maze_env/MazeRunner-v0',num_agents=num_agents,vision_len=3,maze=sample_lattice_maze,render_mode='human')\n",
    "observations, info = env.reset()\n",
    "\n",
    "\n",
    "episode_over = False\n",
    "while not episode_over:\n",
    "    action = []\n",
    "    for a in range(num_agents):\n",
    "        action.append(env.action_space.sample())\n",
    "    observations, reward,terminated, truncated,info = env.step(action)\n",
    "    \n",
    "    episode_over = terminated or truncated\n",
    "\n",
    "env.close()"
   ]
  }
 ],
 "metadata": {
  "kernelspec": {
   "display_name": "GameRFL",
   "language": "python",
   "name": "python3"
  },
  "language_info": {
   "codemirror_mode": {
    "name": "ipython",
    "version": 3
   },
   "file_extension": ".py",
   "mimetype": "text/x-python",
   "name": "python",
   "nbconvert_exporter": "python",
   "pygments_lexer": "ipython3",
   "version": "3.12.3"
  }
 },
 "nbformat": 4,
 "nbformat_minor": 2
}
